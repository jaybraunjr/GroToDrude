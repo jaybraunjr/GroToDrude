{
 "cells": [
  {
   "cell_type": "markdown",
   "id": "5a4e9500",
   "metadata": {},
   "source": [
    "# This uses topology an coords to create out psf with correct atom types etc "
   ]
  },
  {
   "cell_type": "code",
   "execution_count": 1,
   "id": "881f3d1f",
   "metadata": {},
   "outputs": [],
   "source": [
    "import parmed as pmd\n"
   ]
  },
  {
   "cell_type": "code",
   "execution_count": 3,
   "id": "b59e9c1f",
   "metadata": {},
   "outputs": [],
   "source": [
    "# Load your topology file\n",
    "# Replace 'your_topology_file.top' with the path to your topology file\n",
    "topology = pmd.load_file('toppars/topol.top')\n"
   ]
  },
  {
   "cell_type": "code",
   "execution_count": 4,
   "id": "9d6b7f4f",
   "metadata": {},
   "outputs": [],
   "source": [
    "\n",
    "# Load your coordinate file\n",
    "# Replace 'your_coordinate_file.crd' with the path to your coordinate file\n",
    "coordinates = pmd.load_file('output2.crd')"
   ]
  },
  {
   "cell_type": "code",
   "execution_count": 5,
   "id": "0e8f6de6",
   "metadata": {},
   "outputs": [
    {
     "data": {
      "text/plain": [
       "<GromacsTopologyFile 100906 atoms; 12086 residues; 100445 bonds; parameterized>"
      ]
     },
     "execution_count": 5,
     "metadata": {},
     "output_type": "execute_result"
    }
   ],
   "source": [
    "topology"
   ]
  },
  {
   "cell_type": "code",
   "execution_count": 6,
   "id": "6145e7e1",
   "metadata": {},
   "outputs": [
    {
     "data": {
      "text/plain": [
       "<parmed.charmm.charmmcrds.CharmmCrdFile at 0x7f7cd032bfd0>"
      ]
     },
     "execution_count": 6,
     "metadata": {},
     "output_type": "execute_result"
    }
   ],
   "source": [
    "coordinates"
   ]
  },
  {
   "cell_type": "code",
   "execution_count": 7,
   "id": "ab76c240",
   "metadata": {},
   "outputs": [],
   "source": [
    "\n",
    "\n",
    "\n",
    "# Assign the coordinates to the topology\n",
    "topology.coordinates = coordinates.coordinates\n",
    "\n",
    "# Save the structure as a PSF file\n",
    "topology.save('v2.psf', overwrite=True)\n"
   ]
  },
  {
   "cell_type": "code",
   "execution_count": null,
   "id": "0e91564d",
   "metadata": {},
   "outputs": [],
   "source": []
  }
 ],
 "metadata": {
  "kernelspec": {
   "display_name": "Python 3 (ipykernel)",
   "language": "python",
   "name": "python3"
  },
  "language_info": {
   "codemirror_mode": {
    "name": "ipython",
    "version": 3
   },
   "file_extension": ".py",
   "mimetype": "text/x-python",
   "name": "python",
   "nbconvert_exporter": "python",
   "pygments_lexer": "ipython3",
   "version": "3.9.18"
  }
 },
 "nbformat": 4,
 "nbformat_minor": 5
}
